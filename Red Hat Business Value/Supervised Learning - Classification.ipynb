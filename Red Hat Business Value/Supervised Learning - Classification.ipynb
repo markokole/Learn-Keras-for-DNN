{
 "cells": [
  {
   "cell_type": "markdown",
   "metadata": {},
   "source": [
    "### Problem Statement\n",
    "#### Goal is to develop and train a DNN to learn the chances that a customer will be a potential high-value customer"
   ]
  },
  {
   "cell_type": "code",
   "execution_count": 1,
   "metadata": {},
   "outputs": [],
   "source": [
    "import pandas as pd\n",
    "import numpy as np\n",
    "import matplotlib.pyplot as plt\n",
    "import seaborn as sns\n",
    "%matplotlib inline"
   ]
  },
  {
   "cell_type": "code",
   "execution_count": 2,
   "metadata": {},
   "outputs": [
    {
     "name": "stdout",
     "output_type": "stream",
     "text": [
      "Shape of df: (2197291, 15)\n",
      "Shape of People df: (189118, 41)\n"
     ]
    }
   ],
   "source": [
    "df = pd.read_csv(\"data/act_train.csv\")\n",
    "people = pd.read_csv(\"data/people.csv\")\n",
    "print(\"Shape of df:\", df.shape)\n",
    "print(\"Shape of People df:\", people.shape)"
   ]
  },
  {
   "cell_type": "code",
   "execution_count": 3,
   "metadata": {},
   "outputs": [
    {
     "data": {
      "text/html": [
       "<div>\n",
       "<style scoped>\n",
       "    .dataframe tbody tr th:only-of-type {\n",
       "        vertical-align: middle;\n",
       "    }\n",
       "\n",
       "    .dataframe tbody tr th {\n",
       "        vertical-align: top;\n",
       "    }\n",
       "\n",
       "    .dataframe thead th {\n",
       "        text-align: right;\n",
       "    }\n",
       "</style>\n",
       "<table border=\"1\" class=\"dataframe\">\n",
       "  <thead>\n",
       "    <tr style=\"text-align: right;\">\n",
       "      <th></th>\n",
       "      <th>people_id</th>\n",
       "      <th>activity_id</th>\n",
       "      <th>date</th>\n",
       "      <th>activity_category</th>\n",
       "      <th>char_1</th>\n",
       "      <th>char_2</th>\n",
       "      <th>char_3</th>\n",
       "      <th>char_4</th>\n",
       "      <th>char_5</th>\n",
       "      <th>char_6</th>\n",
       "      <th>char_7</th>\n",
       "      <th>char_8</th>\n",
       "      <th>char_9</th>\n",
       "      <th>char_10</th>\n",
       "      <th>outcome</th>\n",
       "    </tr>\n",
       "  </thead>\n",
       "  <tbody>\n",
       "    <tr>\n",
       "      <th>0</th>\n",
       "      <td>ppl_100</td>\n",
       "      <td>act2_1734928</td>\n",
       "      <td>2023-08-26</td>\n",
       "      <td>type 4</td>\n",
       "      <td>NaN</td>\n",
       "      <td>NaN</td>\n",
       "      <td>NaN</td>\n",
       "      <td>NaN</td>\n",
       "      <td>NaN</td>\n",
       "      <td>NaN</td>\n",
       "      <td>NaN</td>\n",
       "      <td>NaN</td>\n",
       "      <td>NaN</td>\n",
       "      <td>type 76</td>\n",
       "      <td>0</td>\n",
       "    </tr>\n",
       "    <tr>\n",
       "      <th>1</th>\n",
       "      <td>ppl_100</td>\n",
       "      <td>act2_2434093</td>\n",
       "      <td>2022-09-27</td>\n",
       "      <td>type 2</td>\n",
       "      <td>NaN</td>\n",
       "      <td>NaN</td>\n",
       "      <td>NaN</td>\n",
       "      <td>NaN</td>\n",
       "      <td>NaN</td>\n",
       "      <td>NaN</td>\n",
       "      <td>NaN</td>\n",
       "      <td>NaN</td>\n",
       "      <td>NaN</td>\n",
       "      <td>type 1</td>\n",
       "      <td>0</td>\n",
       "    </tr>\n",
       "    <tr>\n",
       "      <th>2</th>\n",
       "      <td>ppl_100</td>\n",
       "      <td>act2_3404049</td>\n",
       "      <td>2022-09-27</td>\n",
       "      <td>type 2</td>\n",
       "      <td>NaN</td>\n",
       "      <td>NaN</td>\n",
       "      <td>NaN</td>\n",
       "      <td>NaN</td>\n",
       "      <td>NaN</td>\n",
       "      <td>NaN</td>\n",
       "      <td>NaN</td>\n",
       "      <td>NaN</td>\n",
       "      <td>NaN</td>\n",
       "      <td>type 1</td>\n",
       "      <td>0</td>\n",
       "    </tr>\n",
       "    <tr>\n",
       "      <th>3</th>\n",
       "      <td>ppl_100</td>\n",
       "      <td>act2_3651215</td>\n",
       "      <td>2023-08-04</td>\n",
       "      <td>type 2</td>\n",
       "      <td>NaN</td>\n",
       "      <td>NaN</td>\n",
       "      <td>NaN</td>\n",
       "      <td>NaN</td>\n",
       "      <td>NaN</td>\n",
       "      <td>NaN</td>\n",
       "      <td>NaN</td>\n",
       "      <td>NaN</td>\n",
       "      <td>NaN</td>\n",
       "      <td>type 1</td>\n",
       "      <td>0</td>\n",
       "    </tr>\n",
       "    <tr>\n",
       "      <th>4</th>\n",
       "      <td>ppl_100</td>\n",
       "      <td>act2_4109017</td>\n",
       "      <td>2023-08-26</td>\n",
       "      <td>type 2</td>\n",
       "      <td>NaN</td>\n",
       "      <td>NaN</td>\n",
       "      <td>NaN</td>\n",
       "      <td>NaN</td>\n",
       "      <td>NaN</td>\n",
       "      <td>NaN</td>\n",
       "      <td>NaN</td>\n",
       "      <td>NaN</td>\n",
       "      <td>NaN</td>\n",
       "      <td>type 1</td>\n",
       "      <td>0</td>\n",
       "    </tr>\n",
       "  </tbody>\n",
       "</table>\n",
       "</div>"
      ],
      "text/plain": [
       "  people_id   activity_id        date activity_category char_1 char_2 char_3  \\\n",
       "0   ppl_100  act2_1734928  2023-08-26            type 4    NaN    NaN    NaN   \n",
       "1   ppl_100  act2_2434093  2022-09-27            type 2    NaN    NaN    NaN   \n",
       "2   ppl_100  act2_3404049  2022-09-27            type 2    NaN    NaN    NaN   \n",
       "3   ppl_100  act2_3651215  2023-08-04            type 2    NaN    NaN    NaN   \n",
       "4   ppl_100  act2_4109017  2023-08-26            type 2    NaN    NaN    NaN   \n",
       "\n",
       "  char_4 char_5 char_6 char_7 char_8 char_9  char_10  outcome  \n",
       "0    NaN    NaN    NaN    NaN    NaN    NaN  type 76        0  \n",
       "1    NaN    NaN    NaN    NaN    NaN    NaN   type 1        0  \n",
       "2    NaN    NaN    NaN    NaN    NaN    NaN   type 1        0  \n",
       "3    NaN    NaN    NaN    NaN    NaN    NaN   type 1        0  \n",
       "4    NaN    NaN    NaN    NaN    NaN    NaN   type 1        0  "
      ]
     },
     "execution_count": 3,
     "metadata": {},
     "output_type": "execute_result"
    }
   ],
   "source": [
    "df.head(5)"
   ]
  },
  {
   "cell_type": "code",
   "execution_count": 4,
   "metadata": {},
   "outputs": [
    {
     "data": {
      "text/html": [
       "<div>\n",
       "<style scoped>\n",
       "    .dataframe tbody tr th:only-of-type {\n",
       "        vertical-align: middle;\n",
       "    }\n",
       "\n",
       "    .dataframe tbody tr th {\n",
       "        vertical-align: top;\n",
       "    }\n",
       "\n",
       "    .dataframe thead th {\n",
       "        text-align: right;\n",
       "    }\n",
       "</style>\n",
       "<table border=\"1\" class=\"dataframe\">\n",
       "  <thead>\n",
       "    <tr style=\"text-align: right;\">\n",
       "      <th></th>\n",
       "      <th>people_id</th>\n",
       "      <th>char_1</th>\n",
       "      <th>group_1</th>\n",
       "      <th>char_2</th>\n",
       "      <th>date</th>\n",
       "      <th>char_3</th>\n",
       "      <th>char_4</th>\n",
       "      <th>char_5</th>\n",
       "      <th>char_6</th>\n",
       "      <th>char_7</th>\n",
       "      <th>...</th>\n",
       "      <th>char_29</th>\n",
       "      <th>char_30</th>\n",
       "      <th>char_31</th>\n",
       "      <th>char_32</th>\n",
       "      <th>char_33</th>\n",
       "      <th>char_34</th>\n",
       "      <th>char_35</th>\n",
       "      <th>char_36</th>\n",
       "      <th>char_37</th>\n",
       "      <th>char_38</th>\n",
       "    </tr>\n",
       "  </thead>\n",
       "  <tbody>\n",
       "    <tr>\n",
       "      <th>0</th>\n",
       "      <td>ppl_100</td>\n",
       "      <td>type 2</td>\n",
       "      <td>group 17304</td>\n",
       "      <td>type 2</td>\n",
       "      <td>2021-06-29</td>\n",
       "      <td>type 5</td>\n",
       "      <td>type 5</td>\n",
       "      <td>type 5</td>\n",
       "      <td>type 3</td>\n",
       "      <td>type 11</td>\n",
       "      <td>...</td>\n",
       "      <td>False</td>\n",
       "      <td>True</td>\n",
       "      <td>True</td>\n",
       "      <td>False</td>\n",
       "      <td>False</td>\n",
       "      <td>True</td>\n",
       "      <td>True</td>\n",
       "      <td>True</td>\n",
       "      <td>False</td>\n",
       "      <td>36</td>\n",
       "    </tr>\n",
       "    <tr>\n",
       "      <th>1</th>\n",
       "      <td>ppl_100002</td>\n",
       "      <td>type 2</td>\n",
       "      <td>group 8688</td>\n",
       "      <td>type 3</td>\n",
       "      <td>2021-01-06</td>\n",
       "      <td>type 28</td>\n",
       "      <td>type 9</td>\n",
       "      <td>type 5</td>\n",
       "      <td>type 3</td>\n",
       "      <td>type 11</td>\n",
       "      <td>...</td>\n",
       "      <td>False</td>\n",
       "      <td>True</td>\n",
       "      <td>True</td>\n",
       "      <td>True</td>\n",
       "      <td>True</td>\n",
       "      <td>True</td>\n",
       "      <td>True</td>\n",
       "      <td>True</td>\n",
       "      <td>False</td>\n",
       "      <td>76</td>\n",
       "    </tr>\n",
       "    <tr>\n",
       "      <th>2</th>\n",
       "      <td>ppl_100003</td>\n",
       "      <td>type 2</td>\n",
       "      <td>group 33592</td>\n",
       "      <td>type 3</td>\n",
       "      <td>2022-06-10</td>\n",
       "      <td>type 4</td>\n",
       "      <td>type 8</td>\n",
       "      <td>type 5</td>\n",
       "      <td>type 2</td>\n",
       "      <td>type 5</td>\n",
       "      <td>...</td>\n",
       "      <td>False</td>\n",
       "      <td>False</td>\n",
       "      <td>True</td>\n",
       "      <td>True</td>\n",
       "      <td>True</td>\n",
       "      <td>True</td>\n",
       "      <td>False</td>\n",
       "      <td>True</td>\n",
       "      <td>True</td>\n",
       "      <td>99</td>\n",
       "    </tr>\n",
       "    <tr>\n",
       "      <th>3</th>\n",
       "      <td>ppl_100004</td>\n",
       "      <td>type 2</td>\n",
       "      <td>group 22593</td>\n",
       "      <td>type 3</td>\n",
       "      <td>2022-07-20</td>\n",
       "      <td>type 40</td>\n",
       "      <td>type 25</td>\n",
       "      <td>type 9</td>\n",
       "      <td>type 4</td>\n",
       "      <td>type 16</td>\n",
       "      <td>...</td>\n",
       "      <td>True</td>\n",
       "      <td>True</td>\n",
       "      <td>True</td>\n",
       "      <td>True</td>\n",
       "      <td>True</td>\n",
       "      <td>True</td>\n",
       "      <td>True</td>\n",
       "      <td>True</td>\n",
       "      <td>True</td>\n",
       "      <td>76</td>\n",
       "    </tr>\n",
       "    <tr>\n",
       "      <th>4</th>\n",
       "      <td>ppl_100006</td>\n",
       "      <td>type 2</td>\n",
       "      <td>group 6534</td>\n",
       "      <td>type 3</td>\n",
       "      <td>2022-07-27</td>\n",
       "      <td>type 40</td>\n",
       "      <td>type 25</td>\n",
       "      <td>type 9</td>\n",
       "      <td>type 3</td>\n",
       "      <td>type 8</td>\n",
       "      <td>...</td>\n",
       "      <td>False</td>\n",
       "      <td>False</td>\n",
       "      <td>True</td>\n",
       "      <td>False</td>\n",
       "      <td>False</td>\n",
       "      <td>False</td>\n",
       "      <td>True</td>\n",
       "      <td>True</td>\n",
       "      <td>False</td>\n",
       "      <td>84</td>\n",
       "    </tr>\n",
       "  </tbody>\n",
       "</table>\n",
       "<p>5 rows × 41 columns</p>\n",
       "</div>"
      ],
      "text/plain": [
       "    people_id  char_1      group_1  char_2        date   char_3   char_4  \\\n",
       "0     ppl_100  type 2  group 17304  type 2  2021-06-29   type 5   type 5   \n",
       "1  ppl_100002  type 2   group 8688  type 3  2021-01-06  type 28   type 9   \n",
       "2  ppl_100003  type 2  group 33592  type 3  2022-06-10   type 4   type 8   \n",
       "3  ppl_100004  type 2  group 22593  type 3  2022-07-20  type 40  type 25   \n",
       "4  ppl_100006  type 2   group 6534  type 3  2022-07-27  type 40  type 25   \n",
       "\n",
       "   char_5  char_6   char_7   ...    char_29 char_30  char_31  char_32  \\\n",
       "0  type 5  type 3  type 11   ...      False    True     True    False   \n",
       "1  type 5  type 3  type 11   ...      False    True     True     True   \n",
       "2  type 5  type 2   type 5   ...      False   False     True     True   \n",
       "3  type 9  type 4  type 16   ...       True    True     True     True   \n",
       "4  type 9  type 3   type 8   ...      False   False     True    False   \n",
       "\n",
       "   char_33  char_34  char_35  char_36  char_37  char_38  \n",
       "0    False     True     True     True    False       36  \n",
       "1     True     True     True     True    False       76  \n",
       "2     True     True    False     True     True       99  \n",
       "3     True     True     True     True     True       76  \n",
       "4    False    False     True     True    False       84  \n",
       "\n",
       "[5 rows x 41 columns]"
      ]
     },
     "execution_count": 4,
     "metadata": {},
     "output_type": "execute_result"
    }
   ],
   "source": [
    "people.head()"
   ]
  },
  {
   "cell_type": "markdown",
   "metadata": {},
   "source": [
    "### Check for Nulls\n",
    "\n",
    "Activity data."
   ]
  },
  {
   "cell_type": "code",
   "execution_count": 5,
   "metadata": {},
   "outputs": [
    {
     "data": {
      "text/plain": [
       "people_id             0.000000\n",
       "activity_id           0.000000\n",
       "date                  0.000000\n",
       "activity_category     0.000000\n",
       "char_1               92.826849\n",
       "char_2               92.826849\n",
       "char_3               92.826849\n",
       "char_4               92.826849\n",
       "char_5               92.826849\n",
       "char_6               92.826849\n",
       "char_7               92.826849\n",
       "char_8               92.826849\n",
       "char_9               92.826849\n",
       "char_10               7.173151\n",
       "outcome               0.000000\n",
       "dtype: float64"
      ]
     },
     "execution_count": 5,
     "metadata": {},
     "output_type": "execute_result"
    }
   ],
   "source": [
    "df.isnull().sum()/df.shape[0]*100"
   ]
  },
  {
   "cell_type": "markdown",
   "metadata": {},
   "source": [
    "People data"
   ]
  },
  {
   "cell_type": "code",
   "execution_count": 6,
   "metadata": {},
   "outputs": [
    {
     "data": {
      "text/plain": [
       "0"
      ]
     },
     "execution_count": 6,
     "metadata": {},
     "output_type": "execute_result"
    }
   ],
   "source": [
    "people.isnull().sum().sum()"
   ]
  },
  {
   "cell_type": "markdown",
   "metadata": {},
   "source": [
    "### Drop columns with 90% missing values"
   ]
  },
  {
   "cell_type": "code",
   "execution_count": 7,
   "metadata": {},
   "outputs": [
    {
     "name": "stdout",
     "output_type": "stream",
     "text": [
      "Columns to remove: ['char_1', 'char_2', 'char_3', 'char_4', 'char_5', 'char_6', 'char_7', 'char_8', 'char_9']\n"
     ]
    }
   ],
   "source": [
    "#Create the list of columns to drop from activity data\n",
    "columns_to_remove = [\"char_\" + str(x) for x in np.arange(1,10)]\n",
    "print(\"Columns to remove:\", columns_to_remove)\n",
    "df = df[list(set(df.columns) - set(columns_to_remove))]"
   ]
  },
  {
   "cell_type": "markdown",
   "metadata": {},
   "source": [
    "Rename 2 columns with same name "
   ]
  },
  {
   "cell_type": "code",
   "execution_count": 8,
   "metadata": {},
   "outputs": [],
   "source": [
    "df = df.rename(columns={\"date\":\"activity_date\",\"char_10\":\"activity_type\"})"
   ]
  },
  {
   "cell_type": "markdown",
   "metadata": {},
   "source": [
    "Replace nulls in `activity_type`."
   ]
  },
  {
   "cell_type": "code",
   "execution_count": 9,
   "metadata": {},
   "outputs": [],
   "source": [
    "df[\"activity_type\"] = df[\"activity_type\"].fillna(df[\"activity_type\"].mode()[0])"
   ]
  },
  {
   "cell_type": "code",
   "execution_count": 10,
   "metadata": {},
   "outputs": [
    {
     "data": {
      "text/plain": [
       "(2197291, 6)"
      ]
     },
     "execution_count": 10,
     "metadata": {},
     "output_type": "execute_result"
    }
   ],
   "source": [
    "df.shape"
   ]
  },
  {
   "cell_type": "markdown",
   "metadata": {},
   "source": [
    "DataFrame with Activity data looks like this now:"
   ]
  },
  {
   "cell_type": "code",
   "execution_count": 11,
   "metadata": {},
   "outputs": [
    {
     "data": {
      "text/plain": [
       "activity_type        object\n",
       "outcome               int64\n",
       "people_id            object\n",
       "activity_date        object\n",
       "activity_id          object\n",
       "activity_category    object\n",
       "dtype: object"
      ]
     },
     "execution_count": 11,
     "metadata": {},
     "output_type": "execute_result"
    }
   ],
   "source": [
    "df.dtypes"
   ]
  },
  {
   "cell_type": "markdown",
   "metadata": {},
   "source": [
    "### Join the datasets\n",
    "Using `people_id`"
   ]
  },
  {
   "cell_type": "code",
   "execution_count": 12,
   "metadata": {},
   "outputs": [
    {
     "data": {
      "text/plain": [
       "(2197291, 46)"
      ]
     },
     "execution_count": 12,
     "metadata": {},
     "output_type": "execute_result"
    }
   ],
   "source": [
    "df_new = df.merge(people, on=[\"people_id\"], how=\"inner\")\n",
    "df_new.shape"
   ]
  },
  {
   "cell_type": "markdown",
   "metadata": {},
   "source": [
    "### Studying target `outcome`\n",
    "This is the value we predict"
   ]
  },
  {
   "cell_type": "code",
   "execution_count": 13,
   "metadata": {},
   "outputs": [
    {
     "name": "stdout",
     "output_type": "stream",
     "text": [
      "Unique values: [0 1]\n"
     ]
    }
   ],
   "source": [
    "print(\"Unique values:\", df_new[\"outcome\"].unique())"
   ]
  },
  {
   "cell_type": "code",
   "execution_count": 14,
   "metadata": {},
   "outputs": [
    {
     "name": "stdout",
     "output_type": "stream",
     "text": [
      "Distribution of outcome values:\n",
      " 0    0.556046\n",
      "1    0.443954\n",
      "Name: outcome, dtype: float64\n"
     ]
    }
   ],
   "source": [
    "print(\"Distribution of outcome values:\\n\",df_new[\"outcome\"].value_counts()/df_new.shape[0])"
   ]
  },
  {
   "cell_type": "markdown",
   "metadata": {},
   "source": [
    "`0` means not potential customer, `1` means potential customer."
   ]
  },
  {
   "cell_type": "markdown",
   "metadata": {},
   "source": [
    "Separate the target values - column `outcome` - from the input dataset"
   ]
  },
  {
   "cell_type": "code",
   "execution_count": 15,
   "metadata": {},
   "outputs": [],
   "source": [
    "outcome = np.array(df_new[\"outcome\"]).reshape(-1,1)\n",
    "del(df_new[\"outcome\"])"
   ]
  },
  {
   "cell_type": "markdown",
   "metadata": {},
   "source": [
    "## Data Engineering\n",
    "\n",
    "#### Check datatypes"
   ]
  },
  {
   "cell_type": "code",
   "execution_count": 16,
   "metadata": {},
   "outputs": [
    {
     "name": "stdout",
     "output_type": "stream",
     "text": [
      "Distinct DataTypes: [dtype('O'), dtype('bool'), dtype('int64')]\n"
     ]
    }
   ],
   "source": [
    "print(\"Distinct DataTypes:\", list(df_new.dtypes.unique()))"
   ]
  },
  {
   "cell_type": "markdown",
   "metadata": {},
   "source": [
    "### Convert Boolean to int"
   ]
  },
  {
   "cell_type": "code",
   "execution_count": 17,
   "metadata": {},
   "outputs": [
    {
     "name": "stdout",
     "output_type": "stream",
     "text": [
      "Boolean columns - \n",
      " ['char_10' 'char_11' 'char_12' 'char_13' 'char_14' 'char_15' 'char_16'\n",
      " 'char_17' 'char_18' 'char_19' 'char_20' 'char_21' 'char_22' 'char_23'\n",
      " 'char_24' 'char_25' 'char_26' 'char_27' 'char_28' 'char_29' 'char_30'\n",
      " 'char_31' 'char_32' 'char_33' 'char_34' 'char_35' 'char_36' 'char_37']\n",
      "\n",
      "Distinct DataTypes after processing: [dtype('O') dtype('int32') dtype('int64')]\n"
     ]
    }
   ],
   "source": [
    "temp = pd.DataFrame(df_new.dtypes)\n",
    "temp.columns = [\"DataType\"]\n",
    "boolean_columns = temp.index[temp[\"DataType\"] == \"bool\"].values\n",
    "print(\"Boolean columns - \\n\", boolean_columns)\n",
    "\n",
    "#conversion\n",
    "for column in boolean_columns:\n",
    "    df_new[column] = np.where(df_new[column] == True, 1, 0)\n",
    "\n",
    "print(\"\\nDistinct DataTypes after processing:\", df_new.dtypes.unique())"
   ]
  },
  {
   "cell_type": "markdown",
   "metadata": {},
   "source": [
    "### Categorical Features"
   ]
  },
  {
   "cell_type": "code",
   "execution_count": 18,
   "metadata": {},
   "outputs": [],
   "source": [
    "categorical_columns = temp.index[temp[\"DataType\"] == \"O\"].values"
   ]
  },
  {
   "cell_type": "code",
   "execution_count": 19,
   "metadata": {},
   "outputs": [
    {
     "name": "stdout",
     "output_type": "stream",
     "text": [
      "activity_type column has: 6515 distinct values\n",
      "people_id column has: 151295 distinct values\n",
      "activity_date column has: 411 distinct values\n",
      "activity_id column has: 2197291 distinct values\n",
      "activity_category column has: 7 distinct values\n",
      "char_1 column has: 2 distinct values\n",
      "group_1 column has: 29899 distinct values\n",
      "char_2 column has: 3 distinct values\n",
      "date column has: 1196 distinct values\n",
      "char_3 column has: 43 distinct values\n",
      "char_4 column has: 25 distinct values\n",
      "char_5 column has: 9 distinct values\n",
      "char_6 column has: 7 distinct values\n",
      "char_7 column has: 25 distinct values\n",
      "char_8 column has: 8 distinct values\n",
      "char_9 column has: 9 distinct values\n"
     ]
    }
   ],
   "source": [
    "for column in categorical_columns:\n",
    "    print(column + \" column has:\", str(len(df_new[column].unique())) + \" distinct values\")"
   ]
  },
  {
   "cell_type": "markdown",
   "metadata": {},
   "source": [
    "There are 5 columns with many distinct values.\n",
    "\n",
    "Check categorical columns for better understanding."
   ]
  },
  {
   "cell_type": "code",
   "execution_count": 20,
   "metadata": {},
   "outputs": [
    {
     "data": {
      "text/html": [
       "<div>\n",
       "<style scoped>\n",
       "    .dataframe tbody tr th:only-of-type {\n",
       "        vertical-align: middle;\n",
       "    }\n",
       "\n",
       "    .dataframe tbody tr th {\n",
       "        vertical-align: top;\n",
       "    }\n",
       "\n",
       "    .dataframe thead th {\n",
       "        text-align: right;\n",
       "    }\n",
       "</style>\n",
       "<table border=\"1\" class=\"dataframe\">\n",
       "  <thead>\n",
       "    <tr style=\"text-align: right;\">\n",
       "      <th></th>\n",
       "      <th>people_id</th>\n",
       "      <th>activity_type</th>\n",
       "      <th>activity_id</th>\n",
       "      <th>group_1</th>\n",
       "    </tr>\n",
       "  </thead>\n",
       "  <tbody>\n",
       "    <tr>\n",
       "      <th>0</th>\n",
       "      <td>ppl_100</td>\n",
       "      <td>type 76</td>\n",
       "      <td>act2_1734928</td>\n",
       "      <td>group 17304</td>\n",
       "    </tr>\n",
       "    <tr>\n",
       "      <th>1</th>\n",
       "      <td>ppl_100</td>\n",
       "      <td>type 1</td>\n",
       "      <td>act2_2434093</td>\n",
       "      <td>group 17304</td>\n",
       "    </tr>\n",
       "    <tr>\n",
       "      <th>2</th>\n",
       "      <td>ppl_100</td>\n",
       "      <td>type 1</td>\n",
       "      <td>act2_3404049</td>\n",
       "      <td>group 17304</td>\n",
       "    </tr>\n",
       "    <tr>\n",
       "      <th>3</th>\n",
       "      <td>ppl_100</td>\n",
       "      <td>type 1</td>\n",
       "      <td>act2_3651215</td>\n",
       "      <td>group 17304</td>\n",
       "    </tr>\n",
       "    <tr>\n",
       "      <th>4</th>\n",
       "      <td>ppl_100</td>\n",
       "      <td>type 1</td>\n",
       "      <td>act2_4109017</td>\n",
       "      <td>group 17304</td>\n",
       "    </tr>\n",
       "  </tbody>\n",
       "</table>\n",
       "</div>"
      ],
      "text/plain": [
       "  people_id activity_type   activity_id      group_1\n",
       "0   ppl_100       type 76  act2_1734928  group 17304\n",
       "1   ppl_100        type 1  act2_2434093  group 17304\n",
       "2   ppl_100        type 1  act2_3404049  group 17304\n",
       "3   ppl_100        type 1  act2_3651215  group 17304\n",
       "4   ppl_100        type 1  act2_4109017  group 17304"
      ]
     },
     "execution_count": 20,
     "metadata": {},
     "output_type": "execute_result"
    }
   ],
   "source": [
    "many_distinct_values = [\"people_id\", \"activity_type\", \"activity_id\", \"group_1\"]\n",
    "df_new[many_distinct_values].head(5)"
   ]
  },
  {
   "cell_type": "markdown",
   "metadata": {},
   "source": [
    "Convert date columns.\n",
    "\n",
    "Column `date`"
   ]
  },
  {
   "cell_type": "code",
   "execution_count": 21,
   "metadata": {},
   "outputs": [],
   "source": [
    "df_new[\"date\"] = pd.to_datetime(df_new[\"date\"])\n",
    "\n",
    "df_new[\"Year\"] = df_new[\"date\"].dt.year\n",
    "df_new[\"Month\"] = df_new[\"date\"].dt.month\n",
    "df_new[\"Quarter\"] = df_new[\"date\"].dt.quarter\n",
    "df_new[\"Week\"] = df_new[\"date\"].dt.week\n",
    "df_new[\"WeekDay\"] = df_new[\"date\"].dt.weekday\n",
    "df_new[\"Day\"] = df_new[\"date\"].dt.day"
   ]
  },
  {
   "cell_type": "markdown",
   "metadata": {},
   "source": [
    "Column `activity_date`"
   ]
  },
  {
   "cell_type": "code",
   "execution_count": 22,
   "metadata": {},
   "outputs": [],
   "source": [
    "df_new[\"activity_date\"] = pd.to_datetime(df_new[\"activity_date\"])\n",
    "\n",
    "df_new[\"activity_date\"] = pd.to_datetime(df_new[\"activity_date\"])\n",
    "df_new[\"Activity_Year\"] = df_new[\"activity_date\"].dt.year\n",
    "df_new[\"Activity_Month\"] = df_new[\"activity_date\"].dt.month\n",
    "df_new[\"Activity_Quarter\"] = df_new[\"activity_date\"].dt.quarter\n",
    "df_new[\"Activity_Week\"] = df_new[\"activity_date\"].dt.week\n",
    "df_new[\"Activity_WeekDay\"] = df_new[\"activity_date\"].dt.weekday\n",
    "df_new[\"Activity_Day\"] = df_new[\"activity_date\"].dt.day"
   ]
  },
  {
   "cell_type": "markdown",
   "metadata": {},
   "source": [
    "Remove both date columns"
   ]
  },
  {
   "cell_type": "code",
   "execution_count": 23,
   "metadata": {},
   "outputs": [],
   "source": [
    "remove_cols = [\"activity_date\", \"date\"]\n",
    "\n",
    "for r_cols in remove_cols:\n",
    "    del(df_new[r_cols])\n",
    "    ix = np.where(categorical_columns == r_cols)[0][0]\n",
    "    #print(r_cols, ix)\n",
    "    categorical_columns = np.delete(categorical_columns, ix)"
   ]
  },
  {
   "cell_type": "markdown",
   "metadata": {},
   "source": [
    "Columns `activity_date` and `date` are taken care of. Check the remaining categorical columns that need attention"
   ]
  },
  {
   "cell_type": "code",
   "execution_count": 24,
   "metadata": {},
   "outputs": [
    {
     "name": "stdout",
     "output_type": "stream",
     "text": [
      "activity_type column has: 6515 distinct values\n",
      "people_id column has: 151295 distinct values\n",
      "activity_id column has: 2197291 distinct values\n",
      "activity_category column has: 7 distinct values\n",
      "char_1 column has: 2 distinct values\n",
      "group_1 column has: 29899 distinct values\n",
      "char_2 column has: 3 distinct values\n",
      "char_3 column has: 43 distinct values\n",
      "char_4 column has: 25 distinct values\n",
      "char_5 column has: 9 distinct values\n",
      "char_6 column has: 7 distinct values\n",
      "char_7 column has: 25 distinct values\n",
      "char_8 column has: 8 distinct values\n",
      "char_9 column has: 9 distinct values\n"
     ]
    }
   ],
   "source": [
    "#df_new.head()\n",
    "for column in categorical_columns:\n",
    "    print(column + \" column has:\", str(len(df_new[column].unique())) + \" distinct values\")"
   ]
  },
  {
   "cell_type": "markdown",
   "metadata": {},
   "source": [
    "Sanity check"
   ]
  },
  {
   "cell_type": "code",
   "execution_count": 25,
   "metadata": {},
   "outputs": [
    {
     "name": "stdout",
     "output_type": "stream",
     "text": [
      "Shape of data after create Date Features: (2197291, 55)\n"
     ]
    }
   ],
   "source": [
    "print(\"Shape of data after create Date Features:\", df_new.shape)"
   ]
  },
  {
   "cell_type": "markdown",
   "metadata": {},
   "source": [
    "Some of remaining categorical columns, which have very high numbers of distinct values."
   ]
  },
  {
   "cell_type": "code",
   "execution_count": 26,
   "metadata": {},
   "outputs": [
    {
     "data": {
      "text/html": [
       "<div>\n",
       "<style scoped>\n",
       "    .dataframe tbody tr th:only-of-type {\n",
       "        vertical-align: middle;\n",
       "    }\n",
       "\n",
       "    .dataframe tbody tr th {\n",
       "        vertical-align: top;\n",
       "    }\n",
       "\n",
       "    .dataframe thead th {\n",
       "        text-align: right;\n",
       "    }\n",
       "</style>\n",
       "<table border=\"1\" class=\"dataframe\">\n",
       "  <thead>\n",
       "    <tr style=\"text-align: right;\">\n",
       "      <th></th>\n",
       "      <th>people_id</th>\n",
       "      <th>activity_type</th>\n",
       "      <th>activity_id</th>\n",
       "      <th>group_1</th>\n",
       "    </tr>\n",
       "  </thead>\n",
       "  <tbody>\n",
       "    <tr>\n",
       "      <th>0</th>\n",
       "      <td>ppl_100</td>\n",
       "      <td>type 76</td>\n",
       "      <td>act2_1734928</td>\n",
       "      <td>group 17304</td>\n",
       "    </tr>\n",
       "    <tr>\n",
       "      <th>1</th>\n",
       "      <td>ppl_100</td>\n",
       "      <td>type 1</td>\n",
       "      <td>act2_2434093</td>\n",
       "      <td>group 17304</td>\n",
       "    </tr>\n",
       "    <tr>\n",
       "      <th>2</th>\n",
       "      <td>ppl_100</td>\n",
       "      <td>type 1</td>\n",
       "      <td>act2_3404049</td>\n",
       "      <td>group 17304</td>\n",
       "    </tr>\n",
       "    <tr>\n",
       "      <th>3</th>\n",
       "      <td>ppl_100</td>\n",
       "      <td>type 1</td>\n",
       "      <td>act2_3651215</td>\n",
       "      <td>group 17304</td>\n",
       "    </tr>\n",
       "    <tr>\n",
       "      <th>4</th>\n",
       "      <td>ppl_100</td>\n",
       "      <td>type 1</td>\n",
       "      <td>act2_4109017</td>\n",
       "      <td>group 17304</td>\n",
       "    </tr>\n",
       "  </tbody>\n",
       "</table>\n",
       "</div>"
      ],
      "text/plain": [
       "  people_id activity_type   activity_id      group_1\n",
       "0   ppl_100       type 76  act2_1734928  group 17304\n",
       "1   ppl_100        type 1  act2_2434093  group 17304\n",
       "2   ppl_100        type 1  act2_3404049  group 17304\n",
       "3   ppl_100        type 1  act2_3651215  group 17304\n",
       "4   ppl_100        type 1  act2_4109017  group 17304"
      ]
     },
     "execution_count": 26,
     "metadata": {},
     "output_type": "execute_result"
    }
   ],
   "source": [
    "df_new[many_distinct_values].head()"
   ]
  },
  {
   "cell_type": "markdown",
   "metadata": {},
   "source": [
    "We can extract number from the string in above columns"
   ]
  },
  {
   "cell_type": "code",
   "execution_count": 27,
   "metadata": {},
   "outputs": [
    {
     "name": "stdout",
     "output_type": "stream",
     "text": [
      "Before: (2197291, 55)\n",
      "Extracting digit for column: people_id\n",
      "Extracting digit for column: activity_type\n",
      "Extracting digit for column: activity_id\n",
      "Extracting digit for column: group_1\n",
      "After: (2197291, 55)\n"
     ]
    }
   ],
   "source": [
    "import re\n",
    "\n",
    "print(\"Before:\", df_new.shape)\n",
    "for column in many_distinct_values:\n",
    "    print(\"Extracting digit for column:\", column)\n",
    "    df_new[column] = df_new[column].apply(lambda x: np.int64(re.findall('\\d+', x )[0]))\n",
    "\n",
    "print(\"After:\", df_new.shape)"
   ]
  },
  {
   "cell_type": "code",
   "execution_count": 28,
   "metadata": {},
   "outputs": [
    {
     "data": {
      "text/html": [
       "<div>\n",
       "<style scoped>\n",
       "    .dataframe tbody tr th:only-of-type {\n",
       "        vertical-align: middle;\n",
       "    }\n",
       "\n",
       "    .dataframe tbody tr th {\n",
       "        vertical-align: top;\n",
       "    }\n",
       "\n",
       "    .dataframe thead th {\n",
       "        text-align: right;\n",
       "    }\n",
       "</style>\n",
       "<table border=\"1\" class=\"dataframe\">\n",
       "  <thead>\n",
       "    <tr style=\"text-align: right;\">\n",
       "      <th></th>\n",
       "      <th>people_id</th>\n",
       "      <th>activity_type</th>\n",
       "      <th>activity_id</th>\n",
       "      <th>group_1</th>\n",
       "    </tr>\n",
       "  </thead>\n",
       "  <tbody>\n",
       "    <tr>\n",
       "      <th>0</th>\n",
       "      <td>100</td>\n",
       "      <td>76</td>\n",
       "      <td>2</td>\n",
       "      <td>17304</td>\n",
       "    </tr>\n",
       "    <tr>\n",
       "      <th>1</th>\n",
       "      <td>100</td>\n",
       "      <td>1</td>\n",
       "      <td>2</td>\n",
       "      <td>17304</td>\n",
       "    </tr>\n",
       "    <tr>\n",
       "      <th>2</th>\n",
       "      <td>100</td>\n",
       "      <td>1</td>\n",
       "      <td>2</td>\n",
       "      <td>17304</td>\n",
       "    </tr>\n",
       "    <tr>\n",
       "      <th>3</th>\n",
       "      <td>100</td>\n",
       "      <td>1</td>\n",
       "      <td>2</td>\n",
       "      <td>17304</td>\n",
       "    </tr>\n",
       "    <tr>\n",
       "      <th>4</th>\n",
       "      <td>100</td>\n",
       "      <td>1</td>\n",
       "      <td>2</td>\n",
       "      <td>17304</td>\n",
       "    </tr>\n",
       "  </tbody>\n",
       "</table>\n",
       "</div>"
      ],
      "text/plain": [
       "   people_id  activity_type  activity_id  group_1\n",
       "0        100             76            2    17304\n",
       "1        100              1            2    17304\n",
       "2        100              1            2    17304\n",
       "3        100              1            2    17304\n",
       "4        100              1            2    17304"
      ]
     },
     "execution_count": 28,
     "metadata": {},
     "output_type": "execute_result"
    }
   ],
   "source": [
    "df_new[[\"people_id\", \"activity_type\", \"activity_id\", \"group_1\"]].head()"
   ]
  },
  {
   "cell_type": "markdown",
   "metadata": {},
   "source": [
    "Remove the columns we are done manipulating from `categorical_columns`."
   ]
  },
  {
   "cell_type": "code",
   "execution_count": 29,
   "metadata": {},
   "outputs": [],
   "source": [
    "mask = np.isin(categorical_columns, many_distinct_values, invert=True)\n",
    "categorical_columns = categorical_columns[mask]"
   ]
  },
  {
   "cell_type": "markdown",
   "metadata": {},
   "source": [
    "Do a sanity check to see the categorical columns we have left to manipulate"
   ]
  },
  {
   "cell_type": "code",
   "execution_count": 30,
   "metadata": {},
   "outputs": [
    {
     "name": "stdout",
     "output_type": "stream",
     "text": [
      "activity_category column has: 7 distinct values\n",
      "char_1 column has: 2 distinct values\n",
      "char_2 column has: 3 distinct values\n",
      "char_3 column has: 43 distinct values\n",
      "char_4 column has: 25 distinct values\n",
      "char_5 column has: 9 distinct values\n",
      "char_6 column has: 7 distinct values\n",
      "char_7 column has: 25 distinct values\n",
      "char_8 column has: 8 distinct values\n",
      "char_9 column has: 9 distinct values\n",
      "138\n"
     ]
    }
   ],
   "source": [
    "count_all = 0\n",
    "for column in categorical_columns:\n",
    "    count = len(df_new[column].unique())\n",
    "    print(column + \" column has:\", str(count) + \" distinct values\")\n",
    "    count_all +=count\n",
    "    \n",
    "print(count_all)"
   ]
  },
  {
   "cell_type": "markdown",
   "metadata": {},
   "source": [
    "### Convert columns with low number of distinct values with One Hot Encoder\n",
    "The column is then removed from the main DataFrame, once it is encoded."
   ]
  },
  {
   "cell_type": "code",
   "execution_count": 31,
   "metadata": {},
   "outputs": [],
   "source": [
    "from sklearn.preprocessing import LabelEncoder, OneHotEncoder\n",
    "\n",
    "def create_ohe(df, col):\n",
    "    le = LabelEncoder()\n",
    "    a=le.fit_transform(df_new[col]).reshape(-1,1)\n",
    "    ohe = OneHotEncoder(sparse=False)\n",
    "    column_names = [col+ \"_\"+ str(i) for i in le.classes_]\n",
    "    return(pd.DataFrame(ohe.fit_transform(a), columns = column_names))"
   ]
  },
  {
   "cell_type": "code",
   "execution_count": 32,
   "metadata": {},
   "outputs": [
    {
     "name": "stdout",
     "output_type": "stream",
     "text": [
      "Running One Hot Decoder on column: activity_category\n",
      "Running One Hot Decoder on column: char_1\n",
      "Running One Hot Decoder on column: char_2\n",
      "Running One Hot Decoder on column: char_3\n",
      "Running One Hot Decoder on column: char_4\n",
      "Running One Hot Decoder on column: char_5\n",
      "Running One Hot Decoder on column: char_6\n",
      "Running One Hot Decoder on column: char_7\n",
      "Running One Hot Decoder on column: char_8\n",
      "Running One Hot Decoder on column: char_9\n"
     ]
    }
   ],
   "source": [
    "for column in categorical_columns:\n",
    "    print(\"Running One Hot Decoder on column:\", column)\n",
    "    temp_df = create_ohe(df_new, column)\n",
    "    df_new = pd.concat([df_new, temp_df], axis=1)\n",
    "    del(df_new[column])"
   ]
  },
  {
   "cell_type": "code",
   "execution_count": 33,
   "metadata": {},
   "outputs": [
    {
     "name": "stdout",
     "output_type": "stream",
     "text": [
      "Shape of input dataset: (2197291, 183)\n",
      "Shape of target: (2197291, 1)\n"
     ]
    }
   ],
   "source": [
    "print(\"Shape of input dataset:\", df_new.shape)\n",
    "print(\"Shape of target:\", outcome.shape)"
   ]
  },
  {
   "cell_type": "markdown",
   "metadata": {},
   "source": [
    "### Split the dataset"
   ]
  },
  {
   "cell_type": "code",
   "execution_count": 34,
   "metadata": {},
   "outputs": [],
   "source": [
    "from sklearn.model_selection import train_test_split"
   ]
  },
  {
   "cell_type": "code",
   "execution_count": 35,
   "metadata": {},
   "outputs": [],
   "source": [
    "x_train, x_test, y_train, y_test = train_test_split(df_new, outcome, test_size=0.2,random_state=2018)\n",
    "x_train, x_val, y_train, y_val = train_test_split(x_train, y_train, test_size=0.1,random_state=2018)"
   ]
  },
  {
   "cell_type": "code",
   "execution_count": 36,
   "metadata": {},
   "outputs": [
    {
     "name": "stdout",
     "output_type": "stream",
     "text": [
      "Shape of x_train: (1582048, 183)\n",
      "Shape of x_test: (439459, 183)\n",
      "Shape of x_val: (175784, 183)\n",
      "Shape of y_train: (1582048, 1)\n",
      "Shape of y_test: (439459, 1)\n",
      "Shape of y_val: (175784, 1)\n"
     ]
    }
   ],
   "source": [
    "print(\"Shape of x_train:\", x_train.shape)\n",
    "print(\"Shape of x_test:\", x_test.shape)\n",
    "print(\"Shape of x_val:\", x_val.shape)\n",
    "print(\"Shape of y_train:\", y_train.shape)\n",
    "print(\"Shape of y_test:\", y_test.shape)\n",
    "print(\"Shape of y_val:\", y_val.shape)"
   ]
  },
  {
   "cell_type": "markdown",
   "metadata": {},
   "source": [
    "### Baseline accuracy\n",
    "We compare the result to what would have happened if we never had a model.\n",
    "\n",
    "**Largest class is the prediction for all customers** - value `0` is the largest class with `55,6%`. The goal of the model is to beat the 0.556 mark."
   ]
  },
  {
   "cell_type": "markdown",
   "metadata": {},
   "source": [
    "### Designing the DNN for Classification"
   ]
  },
  {
   "cell_type": "code",
   "execution_count": 37,
   "metadata": {},
   "outputs": [
    {
     "name": "stderr",
     "output_type": "stream",
     "text": [
      "C:\\Anaconda3\\lib\\site-packages\\h5py\\__init__.py:36: FutureWarning: Conversion of the second argument of issubdtype from `float` to `np.floating` is deprecated. In future, it will be treated as `np.float64 == np.dtype(float).type`.\n",
      "  from ._conv import register_converters as _register_converters\n"
     ]
    }
   ],
   "source": [
    "from tensorflow.keras.models import Sequential\n",
    "from tensorflow.keras.layers import Dense"
   ]
  },
  {
   "cell_type": "code",
   "execution_count": 38,
   "metadata": {},
   "outputs": [],
   "source": [
    "model = Sequential()\n",
    "model.add(Dense(256, input_dim=x_train.shape[1], activation=\"relu\"))\n",
    "model.add(Dense(256, activation=\"relu\"))\n",
    "model.add(Dense(1, activation=\"sigmoid\"))"
   ]
  },
  {
   "cell_type": "code",
   "execution_count": 39,
   "metadata": {},
   "outputs": [],
   "source": [
    "model.compile(optimizer=\"Adam\",\n",
    "              loss=\"binary_crossentropy\",\n",
    "              metrics = [\"accuracy\"])"
   ]
  },
  {
   "cell_type": "code",
   "execution_count": 40,
   "metadata": {},
   "outputs": [
    {
     "name": "stdout",
     "output_type": "stream",
     "text": [
      "Train on 1582048 samples, validate on 175784 samples\n",
      "Epoch 1/3\n",
      "1582048/1582048 [==============================] - 82s 52us/step - loss: 8.8669 - acc: 0.4438 - val_loss: 8.8394 - val_acc: 0.4455\n",
      "Epoch 2/3\n",
      "1582048/1582048 [==============================] - 78s 49us/step - loss: 8.8669 - acc: 0.4438 - val_loss: 8.8394 - val_acc: 0.4455\n",
      "Epoch 3/3\n",
      "1582048/1582048 [==============================] - 78s 49us/step - loss: 8.8669 - acc: 0.4438 - val_loss: 8.8394 - val_acc: 0.4455\n"
     ]
    },
    {
     "data": {
      "text/plain": [
       "<tensorflow.python.keras.callbacks.History at 0x266abe4d2e8>"
      ]
     },
     "execution_count": 40,
     "metadata": {},
     "output_type": "execute_result"
    }
   ],
   "source": [
    "model.fit(x_train, y_train, validation_data=(x_val, y_val), epochs=3, batch_size=64)"
   ]
  },
  {
   "cell_type": "markdown",
   "metadata": {},
   "source": [
    "The results are not better than the baseline accuracy. Deeper or bigger NN will not help."
   ]
  },
  {
   "cell_type": "markdown",
   "metadata": {},
   "source": [
    "### Revisit the data\n",
    "Improve training data by standardizing it. `Standardscaler` or `Minmaxscaler` can be useful.\n",
    "\n",
    "In **standardization**, the data is **transformed to mean=0** and **standard deviation=1**."
   ]
  },
  {
   "cell_type": "code",
   "execution_count": 41,
   "metadata": {},
   "outputs": [],
   "source": [
    "from sklearn.preprocessing import StandardScaler"
   ]
  },
  {
   "cell_type": "code",
   "execution_count": 42,
   "metadata": {},
   "outputs": [
    {
     "data": {
      "text/plain": [
       "StandardScaler(copy=True, with_mean=True, with_std=True)"
      ]
     },
     "execution_count": 42,
     "metadata": {},
     "output_type": "execute_result"
    }
   ],
   "source": [
    "scaler = StandardScaler()\n",
    "scaler.fit(x_train)"
   ]
  },
  {
   "cell_type": "code",
   "execution_count": 43,
   "metadata": {},
   "outputs": [],
   "source": [
    "x_train_scaled = scaler.transform(x_train)\n",
    "x_val_scaled = scaler.transform(x_val)\n",
    "x_test_scaled = scaler.transform(x_test)"
   ]
  },
  {
   "cell_type": "code",
   "execution_count": 44,
   "metadata": {},
   "outputs": [],
   "source": [
    "model = Sequential()\n",
    "model.add(Dense(512, input_dim=x_train_scaled.shape[1], activation=\"relu\"))\n",
    "model.add(Dense(1, activation=\"sigmoid\"))"
   ]
  },
  {
   "cell_type": "code",
   "execution_count": 45,
   "metadata": {},
   "outputs": [],
   "source": [
    "model.compile(optimizer=\"Adam\", loss=\"binary_crossentropy\", metrics=[\"accuracy\"])"
   ]
  },
  {
   "cell_type": "code",
   "execution_count": 46,
   "metadata": {},
   "outputs": [
    {
     "name": "stdout",
     "output_type": "stream",
     "text": [
      "Train on 1582048 samples, validate on 175784 samples\n",
      "Epoch 1/3\n",
      "1582048/1582048 [==============================] - 75s 47us/step - loss: 0.2312 - acc: 0.8991 - val_loss: 0.1895 - val_acc: 0.9220\n",
      "Epoch 2/3\n",
      "1582048/1582048 [==============================] - 71s 45us/step - loss: 0.1718 - acc: 0.9315 - val_loss: 0.1576 - val_acc: 0.9383\n",
      "Epoch 3/3\n",
      "1582048/1582048 [==============================] - 71s 45us/step - loss: 0.1463 - acc: 0.9440 - val_loss: 0.1459 - val_acc: 0.9442\n"
     ]
    },
    {
     "data": {
      "text/plain": [
       "<tensorflow.python.keras.callbacks.History at 0x266ad748128>"
      ]
     },
     "execution_count": 46,
     "metadata": {},
     "output_type": "execute_result"
    }
   ],
   "source": [
    "model.fit(x_train_scaled, y_train, validation_data=(x_val_scaled, y_val), epochs=3, batch_size=64)"
   ]
  },
  {
   "cell_type": "markdown",
   "metadata": {},
   "source": [
    "Evaluate the model performance"
   ]
  },
  {
   "cell_type": "code",
   "execution_count": 47,
   "metadata": {},
   "outputs": [
    {
     "name": "stdout",
     "output_type": "stream",
     "text": [
      "439459/439459 [==============================] - 9s 20us/step\n",
      "Metric loss : 0.15\n",
      "Metric acc : 0.94\n"
     ]
    }
   ],
   "source": [
    "result = model.evaluate(x_test_scaled, y_test)\n",
    "for i in range(len(model.metrics_names)):\n",
    "    print(\"Metric\", model.metrics_names[i] ,\":\", str(round(result[i],2)))"
   ]
  },
  {
   "cell_type": "markdown",
   "metadata": {},
   "source": [
    "Add a hidden layer"
   ]
  },
  {
   "cell_type": "code",
   "execution_count": 48,
   "metadata": {},
   "outputs": [
    {
     "name": "stdout",
     "output_type": "stream",
     "text": [
      "Train on 1582048 samples, validate on 175784 samples\n",
      "Epoch 1/3\n",
      "1582048/1582048 [==============================] - 240s 152us/step - loss: 0.1954 - acc: 0.9143 - val_loss: 0.1407 - val_acc: 0.9413\n",
      "Epoch 2/3\n",
      "1582048/1582048 [==============================] - 240s 152us/step - loss: 0.1179 - acc: 0.9528 - val_loss: 0.1048 - val_acc: 0.9588\n",
      "Epoch 3/3\n",
      "1582048/1582048 [==============================] - 269s 170us/step - loss: 0.0916 - acc: 0.9645 - val_loss: 0.0899 - val_acc: 0.9662\n"
     ]
    },
    {
     "data": {
      "text/plain": [
       "<tensorflow.python.keras.callbacks.History at 0x266ad7930b8>"
      ]
     },
     "execution_count": 48,
     "metadata": {},
     "output_type": "execute_result"
    }
   ],
   "source": [
    "model = Sequential()\n",
    "model.add(Dense(512, input_dim=x_train_scaled.shape[1], activation=\"relu\"))\n",
    "model.add(Dense(512, activation=\"relu\"))\n",
    "model.add(Dense(1, activation=\"sigmoid\"))\n",
    "\n",
    "model.compile(optimizer=\"Adam\", loss=\"binary_crossentropy\", metrics=[\"accuracy\"])\n",
    "\n",
    "model.fit(x_train_scaled, y_train, validation_data=(x_val_scaled, y_val), epochs=3, batch_size=64)"
   ]
  },
  {
   "cell_type": "markdown",
   "metadata": {},
   "source": [
    "Attempt with a bigger network"
   ]
  },
  {
   "cell_type": "code",
   "execution_count": 49,
   "metadata": {},
   "outputs": [
    {
     "name": "stdout",
     "output_type": "stream",
     "text": [
      "Train on 1582048 samples, validate on 175784 samples\n",
      "Epoch 1/3\n",
      "1582048/1582048 [==============================] - 770s 487us/step - loss: 0.1967 - acc: 0.9127 - val_loss: 0.1431 - val_acc: 0.9397\n",
      "Epoch 2/3\n",
      "1582048/1582048 [==============================] - 769s 486us/step - loss: 0.1172 - acc: 0.9522 - val_loss: 0.1023 - val_acc: 0.9596\n",
      "Epoch 3/3\n",
      "1582048/1582048 [==============================] - 769s 486us/step - loss: 0.0906 - acc: 0.9644 - val_loss: 0.0933 - val_acc: 0.9653\n"
     ]
    },
    {
     "data": {
      "text/plain": [
       "<tensorflow.python.keras.callbacks.History at 0x266ad780668>"
      ]
     },
     "execution_count": 49,
     "metadata": {},
     "output_type": "execute_result"
    }
   ],
   "source": [
    "model = Sequential()\n",
    "model.add(Dense(1024, input_dim=x_train_scaled.shape[1], activation=\"relu\"))\n",
    "model.add(Dense(1024, activation=\"relu\"))\n",
    "model.add(Dense(1, activation=\"sigmoid\"))\n",
    "\n",
    "model.compile(optimizer=\"Adam\", loss=\"binary_crossentropy\", metrics=[\"accuracy\"])\n",
    "\n",
    "model.fit(x_train_scaled, y_train, validation_data=(x_val_scaled, y_val), epochs=3, batch_size=64)"
   ]
  },
  {
   "cell_type": "markdown",
   "metadata": {},
   "source": [
    "Final training set"
   ]
  },
  {
   "cell_type": "code",
   "execution_count": 50,
   "metadata": {},
   "outputs": [
    {
     "name": "stdout",
     "output_type": "stream",
     "text": [
      "Train on 1582048 samples, validate on 175784 samples\n",
      "Epoch 1/15\n",
      "1582048/1582048 [==============================] - 244s 154us/step - loss: 0.1958 - acc: 0.9138 - val_loss: 0.1405 - val_acc: 0.9427\n",
      "Epoch 2/15\n",
      "1582048/1582048 [==============================] - 245s 155us/step - loss: 0.1190 - acc: 0.9521 - val_loss: 0.1105 - val_acc: 0.9566\n",
      "Epoch 3/15\n",
      "1582048/1582048 [==============================] - 242s 153us/step - loss: 0.0927 - acc: 0.9637 - val_loss: 0.0900 - val_acc: 0.9652\n",
      "Epoch 4/15\n",
      "1582048/1582048 [==============================] - 244s 154us/step - loss: 0.0781 - acc: 0.9701 - val_loss: 0.0804 - val_acc: 0.9708\n",
      "Epoch 5/15\n",
      "1582048/1582048 [==============================] - 244s 154us/step - loss: 0.0692 - acc: 0.9741 - val_loss: 0.0752 - val_acc: 0.9725\n",
      "Epoch 6/15\n",
      "1582048/1582048 [==============================] - 243s 154us/step - loss: 0.0621 - acc: 0.9771 - val_loss: 0.0691 - val_acc: 0.9747\n",
      "Epoch 7/15\n",
      "1582048/1582048 [==============================] - 242s 153us/step - loss: 0.0570 - acc: 0.9792 - val_loss: 0.0699 - val_acc: 0.9766\n",
      "Epoch 8/15\n",
      "1582048/1582048 [==============================] - 242s 153us/step - loss: 0.0530 - acc: 0.9808 - val_loss: 0.0658 - val_acc: 0.9771\n",
      "Epoch 9/15\n",
      "1582048/1582048 [==============================] - 244s 154us/step - loss: 0.0498 - acc: 0.9820 - val_loss: 0.0618 - val_acc: 0.9793\n",
      "Epoch 10/15\n",
      "1582048/1582048 [==============================] - 251s 159us/step - loss: 0.0470 - acc: 0.9832 - val_loss: 0.0628 - val_acc: 0.9790\n",
      "Epoch 11/15\n",
      "1582048/1582048 [==============================] - 250s 158us/step - loss: 0.0447 - acc: 0.9841 - val_loss: 0.0605 - val_acc: 0.9806\n",
      "Epoch 12/15\n",
      "1582048/1582048 [==============================] - 255s 161us/step - loss: 0.0446 - acc: 0.9849 - val_loss: 0.0642 - val_acc: 0.9805\n",
      "Epoch 13/15\n",
      "1582048/1582048 [==============================] - 263s 166us/step - loss: 0.0437 - acc: 0.9856 - val_loss: 0.0652 - val_acc: 0.9808\n",
      "Epoch 14/15\n",
      "1582048/1582048 [==============================] - 261s 165us/step - loss: 0.0424 - acc: 0.9861 - val_loss: 0.0635 - val_acc: 0.9812\n",
      "Epoch 15/15\n",
      "1582048/1582048 [==============================] - 257s 162us/step - loss: 0.0402 - acc: 0.9866 - val_loss: 0.0603 - val_acc: 0.9826\n"
     ]
    },
    {
     "data": {
      "text/plain": [
       "<tensorflow.python.keras.callbacks.History at 0x266cf6f5a58>"
      ]
     },
     "execution_count": 50,
     "metadata": {},
     "output_type": "execute_result"
    }
   ],
   "source": [
    "model = Sequential()\n",
    "model.add(Dense(512, input_dim=x_train_scaled.shape[1], activation=\"relu\"))\n",
    "model.add(Dense(512, activation=\"relu\"))\n",
    "model.add(Dense(1, activation=\"sigmoid\"))\n",
    "\n",
    "model.compile(optimizer=\"Adam\", loss=\"binary_crossentropy\", metrics=[\"accuracy\"])\n",
    "\n",
    "model.fit(x_train_scaled, y_train, validation_data=(x_val_scaled, y_val), epochs=15, batch_size=64)"
   ]
  },
  {
   "cell_type": "markdown",
   "metadata": {},
   "source": [
    "Validate the model performance with test data"
   ]
  },
  {
   "cell_type": "code",
   "execution_count": 51,
   "metadata": {},
   "outputs": [
    {
     "name": "stdout",
     "output_type": "stream",
     "text": [
      "439459/439459 [==============================] - 27s 60us/step\n",
      "Metric  loss : 0.06\n",
      "Metric  acc : 0.98\n"
     ]
    }
   ],
   "source": [
    "result = model.evaluate(x_test_scaled, y_test)\n",
    "\n",
    "for i in range(len(model.metrics_names)):\n",
    "    print(\"Metric \", model.metrics_names[i], \":\", str(round(result[i],2)))"
   ]
  },
  {
   "cell_type": "markdown",
   "metadata": {},
   "source": [
    "### Plotting *loss* curve for training and validation dataset"
   ]
  },
  {
   "cell_type": "code",
   "execution_count": 52,
   "metadata": {},
   "outputs": [
    {
     "data": {
      "image/png": "[encoded data removed]",
      "text/plain": [
       "<Figure size 432x288 with 1 Axes>"
      ]
     },
     "metadata": {},
     "output_type": "display_data"
    }
   ],
   "source": [
    "plt.plot(model.history.history['loss'])\n",
    "plt.plot(model.history.history['val_loss'])\n",
    "plt.title(\"Model's Training & Validation loss across epochs\")\n",
    "plt.ylabel('Loss')\n",
    "plt.xlabel('Epochs')\n",
    "plt.legend(['Train', 'Validation'], loc='upper right')\n",
    "plt.show()"
   ]
  },
  {
   "cell_type": "markdown",
   "metadata": {},
   "source": [
    "### Plotting *accuracy* curve for training and validation dataset"
   ]
  },
  {
   "cell_type": "code",
   "execution_count": 53,
   "metadata": {},
   "outputs": [
    {
     "data": {
      "image/png": "[encoded data removed]",
      "text/plain": [
       "<Figure size 432x288 with 1 Axes>"
      ]
     },
     "metadata": {},
     "output_type": "display_data"
    }
   ],
   "source": [
    "plt.plot(model.history.history['acc'])\n",
    "plt.plot(model.history.history['val_acc'])\n",
    "plt.title(\"Model's Training & Validation Accuracy across epochs\")\n",
    "plt.ylabel('Accuracy')\n",
    "plt.xlabel('Epochs')\n",
    "plt.legend(['Train', 'Validation'], loc='upper right')\n",
    "plt.show()"
   ]
  }
 ],
 "metadata": {
  "kernelspec": {
   "display_name": "Python 3",
   "language": "python",
   "name": "python3"
  },
  "language_info": {
   "codemirror_mode": {
    "name": "ipython",
    "version": 3
   },
   "file_extension": ".py",
   "mimetype": "text/x-python",
   "name": "python",
   "nbconvert_exporter": "python",
   "pygments_lexer": "ipython3",
   "version": "3.5.5"
  }
 },
 "nbformat": 4,
 "nbformat_minor": 2
}
